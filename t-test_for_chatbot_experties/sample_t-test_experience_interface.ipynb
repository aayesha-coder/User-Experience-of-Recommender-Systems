{
 "cells": [
  {
   "cell_type": "code",
   "execution_count": 1,
   "metadata": {},
   "outputs": [
    {
     "name": "stderr",
     "output_type": "stream",
     "text": [
      "/Users/aayeshaaayesha/Library/Python/3.9/lib/python/site-packages/tqdm/auto.py:21: TqdmWarning: IProgress not found. Please update jupyter and ipywidgets. See https://ipywidgets.readthedocs.io/en/stable/user_install.html\n",
      "  from .autonotebook import tqdm as notebook_tqdm\n"
     ]
    }
   ],
   "source": [
    "from transformers import AutoModelForSequenceClassification\n",
    "from transformers import TFAutoModelForSequenceClassification\n",
    "from transformers import AutoTokenizer, AutoConfig\n",
    "import numpy as np\n",
    "from scipy.special import softmax\n",
    "# Preprocess text (username and link placeholders)\n",
    "def preprocess(text):\n",
    "    new_text = []\n",
    "    for t in text.split(\" \"):\n",
    "        t = '@user' if t.startswith('@') and len(t) > 1 else t\n",
    "        t = 'http' if t.startswith('http') else t\n",
    "        new_text.append(t)\n",
    "    return \" \".join(new_text)\n"
   ]
  },
  {
   "cell_type": "code",
   "execution_count": 2,
   "metadata": {},
   "outputs": [
    {
     "name": "stderr",
     "output_type": "stream",
     "text": [
      "Some weights of the model checkpoint at cardiffnlp/twitter-roberta-base-sentiment-latest were not used when initializing RobertaForSequenceClassification: ['roberta.pooler.dense.bias', 'roberta.pooler.dense.weight']\n",
      "- This IS expected if you are initializing RobertaForSequenceClassification from the checkpoint of a model trained on another task or with another architecture (e.g. initializing a BertForSequenceClassification model from a BertForPreTraining model).\n",
      "- This IS NOT expected if you are initializing RobertaForSequenceClassification from the checkpoint of a model that you expect to be exactly identical (initializing a BertForSequenceClassification model from a BertForSequenceClassification model).\n"
     ]
    }
   ],
   "source": [
    "MODEL = f\"cardiffnlp/twitter-roberta-base-sentiment-latest\"\n",
    "tokenizer = AutoTokenizer.from_pretrained(MODEL)\n",
    "config = AutoConfig.from_pretrained(MODEL)\n",
    "# PT\n",
    "model = AutoModelForSequenceClassification.from_pretrained(MODEL)\n",
    "#model.save_pretrained(MODEL)"
   ]
  },
  {
   "cell_type": "code",
   "execution_count": 4,
   "metadata": {},
   "outputs": [],
   "source": [
    "import pandas as pd\n",
    "df_low_sample = pd.read_excel('person_low_sample.xlsx')\n",
    "df_med_sample = pd.read_excel('person_med_sample.xlsx')\n",
    "df_good_sample = pd.read_excel('person_good_sample.xlsx')\n"
   ]
  },
  {
   "cell_type": "code",
   "execution_count": 5,
   "metadata": {},
   "outputs": [
    {
     "name": "stdout",
     "output_type": "stream",
     "text": [
      "[0.3510501, 0.07537002, 0.5553407, 0.3023177, 0.4040435, 0.24080606, 0.33029565, 0.50409806, 0.46313107]\n"
     ]
    }
   ],
   "source": [
    "from statistics import mean \n",
    "col_list = ['interface1p', 'interface2p', 'interface3p']\n",
    "def sentiForCol(col_list):\n",
    "    pos_mean_ls = []\n",
    "    for k in range(df_low_sample.shape[0]):\n",
    "        pos_ls = []\n",
    "        for j in range(0, len(col_list)):\n",
    "          text = df_low_sample.iloc[k][col_list[j]]\n",
    "          text = preprocess(text)\n",
    "          encoded_input = tokenizer(text, return_tensors='pt')\n",
    "          output = model(**encoded_input)\n",
    "          scores = output[0][0].detach().numpy()\n",
    "          scores = softmax(scores)\n",
    "          ranking = np.argsort(scores)\n",
    "          ranking = ranking[::-1]\n",
    "          for i in range(scores.shape[0]):\n",
    "            l = config.id2label[ranking[i]]\n",
    "            s = scores[ranking[i]]\n",
    "            if l=='positive':\n",
    "                pos_ls.append(s)\n",
    "        pos_mean = mean(pos_ls)\n",
    "        pos_mean_ls.append(pos_mean)\n",
    "    return pos_mean_ls\n",
    "print(sentiForCol(col_list))\n",
    "low = sentiForCol(col_list)"
   ]
  },
  {
   "cell_type": "code",
   "execution_count": 6,
   "metadata": {},
   "outputs": [
    {
     "name": "stdout",
     "output_type": "stream",
     "text": [
      "[0.34500545, 0.1851391, 0.5161521, 0.08121794, 0.023180358, 0.28468177, 0.23042737, 0.08036654, 0.032278948]\n"
     ]
    }
   ],
   "source": [
    "col_list = ['interface1p', 'interface2p', 'interface3p']\n",
    "def sentiForCol1(col_list):\n",
    "    pos_mean_ls = []\n",
    "    for k in range(df_med_sample.shape[0]):\n",
    "        pos_ls = []\n",
    "        for j in range(0, len(col_list)):\n",
    "          text = df_med_sample.iloc[k][col_list[j]]\n",
    "          text = preprocess(text)\n",
    "          encoded_input = tokenizer(text, return_tensors='pt')\n",
    "          output = model(**encoded_input)\n",
    "          scores = output[0][0].detach().numpy()\n",
    "          scores = softmax(scores)\n",
    "          ranking = np.argsort(scores)\n",
    "          ranking = ranking[::-1]\n",
    "          for i in range(scores.shape[0]):\n",
    "            l = config.id2label[ranking[i]]\n",
    "            s = scores[ranking[i]]\n",
    "            if l=='positive':\n",
    "                pos_ls.append(s)\n",
    "        pos_mean = mean(pos_ls)\n",
    "        pos_mean_ls.append(pos_mean)\n",
    "    return pos_mean_ls\n",
    "print(sentiForCol1(col_list))\n",
    "med = sentiForCol1(col_list)"
   ]
  },
  {
   "cell_type": "code",
   "execution_count": 7,
   "metadata": {},
   "outputs": [
    {
     "name": "stdout",
     "output_type": "stream",
     "text": [
      "[0.3709818, 0.6109981, 0.46147192, 0.7283459, 0.3730288, 0.45493847, 0.29190907, 0.30542618, 0.61456436]\n"
     ]
    }
   ],
   "source": [
    "col_list = ['interface1p', 'interface2p', 'interface3p']\n",
    "def sentiForCol1(col_list):\n",
    "    pos_mean_ls = []\n",
    "    for k in range(df_good_sample.shape[0]):\n",
    "        pos_ls = []\n",
    "        for j in range(0, len(col_list)):\n",
    "          text = df_good_sample.iloc[k][col_list[j]]\n",
    "          text = preprocess(text)\n",
    "          encoded_input = tokenizer(text, return_tensors='pt')\n",
    "          output = model(**encoded_input)\n",
    "          scores = output[0][0].detach().numpy()\n",
    "          scores = softmax(scores)\n",
    "          ranking = np.argsort(scores)\n",
    "          ranking = ranking[::-1]\n",
    "          for i in range(scores.shape[0]):\n",
    "            l = config.id2label[ranking[i]]\n",
    "            s = scores[ranking[i]]\n",
    "            if l=='positive':\n",
    "                pos_ls.append(s)\n",
    "        pos_mean = mean(pos_ls)\n",
    "        pos_mean_ls.append(pos_mean)\n",
    "    return pos_mean_ls\n",
    "print(sentiForCol1(col_list))\n",
    "good = sentiForCol1(col_list)"
   ]
  },
  {
   "cell_type": "code",
   "execution_count": 8,
   "metadata": {},
   "outputs": [],
   "source": [
    "df_low_interface_t_test = pd.DataFrame({'experience': 'low', 'interface_pos': low })\n",
    "df_med_interface_t_test = pd.DataFrame({'experience': 'med', 'interface_pos': med })\n",
    "df_good_interface_t_test = pd.DataFrame({'experience': 'good', 'interface_pos': good })\n"
   ]
  },
  {
   "cell_type": "code",
   "execution_count": 9,
   "metadata": {},
   "outputs": [
    {
     "data": {
      "text/html": [
       "<div>\n",
       "<style scoped>\n",
       "    .dataframe tbody tr th:only-of-type {\n",
       "        vertical-align: middle;\n",
       "    }\n",
       "\n",
       "    .dataframe tbody tr th {\n",
       "        vertical-align: top;\n",
       "    }\n",
       "\n",
       "    .dataframe thead th {\n",
       "        text-align: right;\n",
       "    }\n",
       "</style>\n",
       "<table border=\"1\" class=\"dataframe\">\n",
       "  <thead>\n",
       "    <tr style=\"text-align: right;\">\n",
       "      <th></th>\n",
       "      <th>experience</th>\n",
       "      <th>interface_pos</th>\n",
       "    </tr>\n",
       "  </thead>\n",
       "  <tbody>\n",
       "    <tr>\n",
       "      <th>0</th>\n",
       "      <td>low</td>\n",
       "      <td>0.351050</td>\n",
       "    </tr>\n",
       "    <tr>\n",
       "      <th>1</th>\n",
       "      <td>low</td>\n",
       "      <td>0.075370</td>\n",
       "    </tr>\n",
       "    <tr>\n",
       "      <th>2</th>\n",
       "      <td>low</td>\n",
       "      <td>0.555341</td>\n",
       "    </tr>\n",
       "    <tr>\n",
       "      <th>3</th>\n",
       "      <td>low</td>\n",
       "      <td>0.302318</td>\n",
       "    </tr>\n",
       "    <tr>\n",
       "      <th>4</th>\n",
       "      <td>low</td>\n",
       "      <td>0.404043</td>\n",
       "    </tr>\n",
       "    <tr>\n",
       "      <th>5</th>\n",
       "      <td>low</td>\n",
       "      <td>0.240806</td>\n",
       "    </tr>\n",
       "    <tr>\n",
       "      <th>6</th>\n",
       "      <td>low</td>\n",
       "      <td>0.330296</td>\n",
       "    </tr>\n",
       "    <tr>\n",
       "      <th>7</th>\n",
       "      <td>low</td>\n",
       "      <td>0.504098</td>\n",
       "    </tr>\n",
       "    <tr>\n",
       "      <th>8</th>\n",
       "      <td>low</td>\n",
       "      <td>0.463131</td>\n",
       "    </tr>\n",
       "    <tr>\n",
       "      <th>0</th>\n",
       "      <td>med</td>\n",
       "      <td>0.345005</td>\n",
       "    </tr>\n",
       "    <tr>\n",
       "      <th>1</th>\n",
       "      <td>med</td>\n",
       "      <td>0.185139</td>\n",
       "    </tr>\n",
       "    <tr>\n",
       "      <th>2</th>\n",
       "      <td>med</td>\n",
       "      <td>0.516152</td>\n",
       "    </tr>\n",
       "    <tr>\n",
       "      <th>3</th>\n",
       "      <td>med</td>\n",
       "      <td>0.081218</td>\n",
       "    </tr>\n",
       "    <tr>\n",
       "      <th>4</th>\n",
       "      <td>med</td>\n",
       "      <td>0.023180</td>\n",
       "    </tr>\n",
       "    <tr>\n",
       "      <th>5</th>\n",
       "      <td>med</td>\n",
       "      <td>0.284682</td>\n",
       "    </tr>\n",
       "    <tr>\n",
       "      <th>6</th>\n",
       "      <td>med</td>\n",
       "      <td>0.230427</td>\n",
       "    </tr>\n",
       "    <tr>\n",
       "      <th>7</th>\n",
       "      <td>med</td>\n",
       "      <td>0.080367</td>\n",
       "    </tr>\n",
       "    <tr>\n",
       "      <th>8</th>\n",
       "      <td>med</td>\n",
       "      <td>0.032279</td>\n",
       "    </tr>\n",
       "    <tr>\n",
       "      <th>0</th>\n",
       "      <td>good</td>\n",
       "      <td>0.370982</td>\n",
       "    </tr>\n",
       "    <tr>\n",
       "      <th>1</th>\n",
       "      <td>good</td>\n",
       "      <td>0.610998</td>\n",
       "    </tr>\n",
       "    <tr>\n",
       "      <th>2</th>\n",
       "      <td>good</td>\n",
       "      <td>0.461472</td>\n",
       "    </tr>\n",
       "    <tr>\n",
       "      <th>3</th>\n",
       "      <td>good</td>\n",
       "      <td>0.728346</td>\n",
       "    </tr>\n",
       "    <tr>\n",
       "      <th>4</th>\n",
       "      <td>good</td>\n",
       "      <td>0.373029</td>\n",
       "    </tr>\n",
       "    <tr>\n",
       "      <th>5</th>\n",
       "      <td>good</td>\n",
       "      <td>0.454938</td>\n",
       "    </tr>\n",
       "    <tr>\n",
       "      <th>6</th>\n",
       "      <td>good</td>\n",
       "      <td>0.291909</td>\n",
       "    </tr>\n",
       "    <tr>\n",
       "      <th>7</th>\n",
       "      <td>good</td>\n",
       "      <td>0.305426</td>\n",
       "    </tr>\n",
       "    <tr>\n",
       "      <th>8</th>\n",
       "      <td>good</td>\n",
       "      <td>0.614564</td>\n",
       "    </tr>\n",
       "  </tbody>\n",
       "</table>\n",
       "</div>"
      ],
      "text/plain": [
       "  experience  interface_pos\n",
       "0        low       0.351050\n",
       "1        low       0.075370\n",
       "2        low       0.555341\n",
       "3        low       0.302318\n",
       "4        low       0.404043\n",
       "5        low       0.240806\n",
       "6        low       0.330296\n",
       "7        low       0.504098\n",
       "8        low       0.463131\n",
       "0        med       0.345005\n",
       "1        med       0.185139\n",
       "2        med       0.516152\n",
       "3        med       0.081218\n",
       "4        med       0.023180\n",
       "5        med       0.284682\n",
       "6        med       0.230427\n",
       "7        med       0.080367\n",
       "8        med       0.032279\n",
       "0       good       0.370982\n",
       "1       good       0.610998\n",
       "2       good       0.461472\n",
       "3       good       0.728346\n",
       "4       good       0.373029\n",
       "5       good       0.454938\n",
       "6       good       0.291909\n",
       "7       good       0.305426\n",
       "8       good       0.614564"
      ]
     },
     "execution_count": 9,
     "metadata": {},
     "output_type": "execute_result"
    }
   ],
   "source": [
    "df_experience_combine_interface_t_test = pd.concat([df_low_interface_t_test, df_med_interface_t_test, df_good_interface_t_test], axis=0)\n",
    "df_experience_combine_interface_t_test"
   ]
  },
  {
   "cell_type": "code",
   "execution_count": 10,
   "metadata": {},
   "outputs": [
    {
     "name": "stdout",
     "output_type": "stream",
     "text": [
      "low vs. med: T-statistic = 2.19, P-value = 0.0436\n",
      "low vs. good: T-statistic = -1.56, P-value = 0.1395\n",
      "med vs. good: T-statistic = -3.61, P-value = 0.0023\n"
     ]
    }
   ],
   "source": [
    "from scipy import stats\n",
    "from itertools import combinations\n",
    "hobbies = df_experience_combine_interface_t_test['experience'].unique()\n",
    "\n",
    "# Perform pairwise t-tests\n",
    "pairwise_results = []\n",
    "for (hobby1, hobby2) in combinations(hobbies, 2):\n",
    "    group1 = df_experience_combine_interface_t_test[df_experience_combine_interface_t_test['experience'] == hobby1]['interface_pos']\n",
    "    group2 = df_experience_combine_interface_t_test[df_experience_combine_interface_t_test['experience'] == hobby2]['interface_pos']\n",
    "    t_stat, p_value = stats.ttest_ind(group1, group2)\n",
    "    pairwise_results.append(((hobby1, hobby2), t_stat, p_value))\n",
    "\n",
    "# Print results\n",
    "for (hobby1, hobby2), t_stat, p_value in pairwise_results:\n",
    "    print(f\"{hobby1} vs. {hobby2}: T-statistic = {t_stat:.2f}, P-value = {p_value:.4f}\")\n"
   ]
  }
 ],
 "metadata": {
  "kernelspec": {
   "display_name": "Python 3",
   "language": "python",
   "name": "python3"
  },
  "language_info": {
   "codemirror_mode": {
    "name": "ipython",
    "version": 3
   },
   "file_extension": ".py",
   "mimetype": "text/x-python",
   "name": "python",
   "nbconvert_exporter": "python",
   "pygments_lexer": "ipython3",
   "version": "3.undefined.undefined"
  }
 },
 "nbformat": 4,
 "nbformat_minor": 2
}
