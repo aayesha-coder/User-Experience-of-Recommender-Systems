{
 "cells": [
  {
   "cell_type": "code",
   "execution_count": 1,
   "metadata": {},
   "outputs": [
    {
     "name": "stderr",
     "output_type": "stream",
     "text": [
      "/Users/aayeshaaayesha/Library/Python/3.9/lib/python/site-packages/tqdm/auto.py:21: TqdmWarning: IProgress not found. Please update jupyter and ipywidgets. See https://ipywidgets.readthedocs.io/en/stable/user_install.html\n",
      "  from .autonotebook import tqdm as notebook_tqdm\n"
     ]
    }
   ],
   "source": [
    "from transformers import AutoModelForSequenceClassification\n",
    "from transformers import TFAutoModelForSequenceClassification\n",
    "from transformers import AutoTokenizer, AutoConfig\n",
    "import numpy as np\n",
    "from scipy.special import softmax\n",
    "# Preprocess text (username and link placeholders)\n",
    "def preprocess(text):\n",
    "    new_text = []\n",
    "    for t in text.split(\" \"):\n",
    "        t = '@user' if t.startswith('@') and len(t) > 1 else t\n",
    "        t = 'http' if t.startswith('http') else t\n",
    "        new_text.append(t)\n",
    "    return \" \".join(new_text)\n"
   ]
  },
  {
   "cell_type": "code",
   "execution_count": 2,
   "metadata": {},
   "outputs": [
    {
     "name": "stderr",
     "output_type": "stream",
     "text": [
      "Some weights of the model checkpoint at cardiffnlp/twitter-roberta-base-sentiment-latest were not used when initializing RobertaForSequenceClassification: ['roberta.pooler.dense.bias', 'roberta.pooler.dense.weight']\n",
      "- This IS expected if you are initializing RobertaForSequenceClassification from the checkpoint of a model trained on another task or with another architecture (e.g. initializing a BertForSequenceClassification model from a BertForPreTraining model).\n",
      "- This IS NOT expected if you are initializing RobertaForSequenceClassification from the checkpoint of a model that you expect to be exactly identical (initializing a BertForSequenceClassification model from a BertForSequenceClassification model).\n"
     ]
    }
   ],
   "source": [
    "MODEL = f\"cardiffnlp/twitter-roberta-base-sentiment-latest\"\n",
    "tokenizer = AutoTokenizer.from_pretrained(MODEL)\n",
    "config = AutoConfig.from_pretrained(MODEL)\n",
    "# PT\n",
    "model = AutoModelForSequenceClassification.from_pretrained(MODEL)\n",
    "#model.save_pretrained(MODEL)"
   ]
  },
  {
   "cell_type": "code",
   "execution_count": 4,
   "metadata": {},
   "outputs": [],
   "source": [
    "import pandas as pd\n",
    "df_low_sample = pd.read_excel('person_low_sample.xlsx')\n",
    "df_med_sample = pd.read_excel('person_med_sample.xlsx')\n",
    "df_good_sample = pd.read_excel('person_good_sample.xlsx')\n"
   ]
  },
  {
   "cell_type": "code",
   "execution_count": 5,
   "metadata": {},
   "outputs": [
    {
     "name": "stdout",
     "output_type": "stream",
     "text": [
      "[0.16416183, 0.63723654, 0.31162542, 0.3023177, 0.025856895, 0.38602617, 0.20151478, 0.6348201, 0.5300344]\n"
     ]
    }
   ],
   "source": [
    "from statistics import mean \n",
    "col_list = ['accomp1p', 'accomp2p', 'accomp3p']\n",
    "def sentiForCol(col_list):\n",
    "    pos_mean_ls = []\n",
    "    for k in range(df_low_sample.shape[0]):\n",
    "        pos_ls = []\n",
    "        for j in range(0, len(col_list)):\n",
    "          text = df_low_sample.iloc[k][col_list[j]]\n",
    "          text = preprocess(text)\n",
    "          encoded_input = tokenizer(text, return_tensors='pt')\n",
    "          output = model(**encoded_input)\n",
    "          scores = output[0][0].detach().numpy()\n",
    "          scores = softmax(scores)\n",
    "          ranking = np.argsort(scores)\n",
    "          ranking = ranking[::-1]\n",
    "          for i in range(scores.shape[0]):\n",
    "            l = config.id2label[ranking[i]]\n",
    "            s = scores[ranking[i]]\n",
    "            if l=='positive':\n",
    "                pos_ls.append(s)\n",
    "        pos_mean = mean(pos_ls)\n",
    "        pos_mean_ls.append(pos_mean)\n",
    "    return pos_mean_ls\n",
    "print(sentiForCol(col_list))\n",
    "low = sentiForCol(col_list)"
   ]
  },
  {
   "cell_type": "code",
   "execution_count": 6,
   "metadata": {},
   "outputs": [
    {
     "name": "stdout",
     "output_type": "stream",
     "text": [
      "[0.89269495, 0.33875483, 0.5117333, 0.42994776, 0.28494498, 0.4347854, 0.45608547, 0.022548223, 0.31565517]\n"
     ]
    }
   ],
   "source": [
    "col_list = ['accomp1p', 'accomp2p', 'accomp3p']\n",
    "def sentiForCol1(col_list):\n",
    "    pos_mean_ls = []\n",
    "    for k in range(df_med_sample.shape[0]):\n",
    "        pos_ls = []\n",
    "        for j in range(0, len(col_list)):\n",
    "          text = df_med_sample.iloc[k][col_list[j]]\n",
    "          text = preprocess(text)\n",
    "          encoded_input = tokenizer(text, return_tensors='pt')\n",
    "          output = model(**encoded_input)\n",
    "          scores = output[0][0].detach().numpy()\n",
    "          scores = softmax(scores)\n",
    "          ranking = np.argsort(scores)\n",
    "          ranking = ranking[::-1]\n",
    "          for i in range(scores.shape[0]):\n",
    "            l = config.id2label[ranking[i]]\n",
    "            s = scores[ranking[i]]\n",
    "            if l=='positive':\n",
    "                pos_ls.append(s)\n",
    "        pos_mean = mean(pos_ls)\n",
    "        pos_mean_ls.append(pos_mean)\n",
    "    return pos_mean_ls\n",
    "print(sentiForCol1(col_list))\n",
    "med = sentiForCol1(col_list)"
   ]
  },
  {
   "cell_type": "code",
   "execution_count": 7,
   "metadata": {},
   "outputs": [
    {
     "name": "stdout",
     "output_type": "stream",
     "text": [
      "[0.7515275, 0.40131566, 0.23390968, 0.9166862, 0.3598943, 0.96758866, 0.6645674, 0.5710844, 0.8281719]\n"
     ]
    }
   ],
   "source": [
    "col_list = ['accomp1p', 'accomp2p', 'accomp3p']\n",
    "def sentiForCol1(col_list):\n",
    "    pos_mean_ls = []\n",
    "    for k in range(df_good_sample.shape[0]):\n",
    "        pos_ls = []\n",
    "        for j in range(0, len(col_list)):\n",
    "          text = df_good_sample.iloc[k][col_list[j]]\n",
    "          text = preprocess(text)\n",
    "          encoded_input = tokenizer(text, return_tensors='pt')\n",
    "          output = model(**encoded_input)\n",
    "          scores = output[0][0].detach().numpy()\n",
    "          scores = softmax(scores)\n",
    "          ranking = np.argsort(scores)\n",
    "          ranking = ranking[::-1]\n",
    "          for i in range(scores.shape[0]):\n",
    "            l = config.id2label[ranking[i]]\n",
    "            s = scores[ranking[i]]\n",
    "            if l=='positive':\n",
    "                pos_ls.append(s)\n",
    "        pos_mean = mean(pos_ls)\n",
    "        pos_mean_ls.append(pos_mean)\n",
    "    return pos_mean_ls\n",
    "print(sentiForCol1(col_list))\n",
    "good = sentiForCol1(col_list)"
   ]
  },
  {
   "cell_type": "code",
   "execution_count": 8,
   "metadata": {},
   "outputs": [],
   "source": [
    "df_low_interface_t_test = pd.DataFrame({'experience': 'low', 'interface_pos': low })\n",
    "df_med_interface_t_test = pd.DataFrame({'experience': 'med', 'interface_pos': med })\n",
    "df_good_interface_t_test = pd.DataFrame({'experience': 'good', 'interface_pos': good })\n"
   ]
  },
  {
   "cell_type": "code",
   "execution_count": 9,
   "metadata": {},
   "outputs": [
    {
     "data": {
      "text/html": [
       "<div>\n",
       "<style scoped>\n",
       "    .dataframe tbody tr th:only-of-type {\n",
       "        vertical-align: middle;\n",
       "    }\n",
       "\n",
       "    .dataframe tbody tr th {\n",
       "        vertical-align: top;\n",
       "    }\n",
       "\n",
       "    .dataframe thead th {\n",
       "        text-align: right;\n",
       "    }\n",
       "</style>\n",
       "<table border=\"1\" class=\"dataframe\">\n",
       "  <thead>\n",
       "    <tr style=\"text-align: right;\">\n",
       "      <th></th>\n",
       "      <th>experience</th>\n",
       "      <th>interface_pos</th>\n",
       "    </tr>\n",
       "  </thead>\n",
       "  <tbody>\n",
       "    <tr>\n",
       "      <th>0</th>\n",
       "      <td>low</td>\n",
       "      <td>0.164162</td>\n",
       "    </tr>\n",
       "    <tr>\n",
       "      <th>1</th>\n",
       "      <td>low</td>\n",
       "      <td>0.637237</td>\n",
       "    </tr>\n",
       "    <tr>\n",
       "      <th>2</th>\n",
       "      <td>low</td>\n",
       "      <td>0.311625</td>\n",
       "    </tr>\n",
       "    <tr>\n",
       "      <th>3</th>\n",
       "      <td>low</td>\n",
       "      <td>0.302318</td>\n",
       "    </tr>\n",
       "    <tr>\n",
       "      <th>4</th>\n",
       "      <td>low</td>\n",
       "      <td>0.025857</td>\n",
       "    </tr>\n",
       "    <tr>\n",
       "      <th>5</th>\n",
       "      <td>low</td>\n",
       "      <td>0.386026</td>\n",
       "    </tr>\n",
       "    <tr>\n",
       "      <th>6</th>\n",
       "      <td>low</td>\n",
       "      <td>0.201515</td>\n",
       "    </tr>\n",
       "    <tr>\n",
       "      <th>7</th>\n",
       "      <td>low</td>\n",
       "      <td>0.634820</td>\n",
       "    </tr>\n",
       "    <tr>\n",
       "      <th>8</th>\n",
       "      <td>low</td>\n",
       "      <td>0.530034</td>\n",
       "    </tr>\n",
       "    <tr>\n",
       "      <th>0</th>\n",
       "      <td>med</td>\n",
       "      <td>0.892695</td>\n",
       "    </tr>\n",
       "    <tr>\n",
       "      <th>1</th>\n",
       "      <td>med</td>\n",
       "      <td>0.338755</td>\n",
       "    </tr>\n",
       "    <tr>\n",
       "      <th>2</th>\n",
       "      <td>med</td>\n",
       "      <td>0.511733</td>\n",
       "    </tr>\n",
       "    <tr>\n",
       "      <th>3</th>\n",
       "      <td>med</td>\n",
       "      <td>0.429948</td>\n",
       "    </tr>\n",
       "    <tr>\n",
       "      <th>4</th>\n",
       "      <td>med</td>\n",
       "      <td>0.284945</td>\n",
       "    </tr>\n",
       "    <tr>\n",
       "      <th>5</th>\n",
       "      <td>med</td>\n",
       "      <td>0.434785</td>\n",
       "    </tr>\n",
       "    <tr>\n",
       "      <th>6</th>\n",
       "      <td>med</td>\n",
       "      <td>0.456085</td>\n",
       "    </tr>\n",
       "    <tr>\n",
       "      <th>7</th>\n",
       "      <td>med</td>\n",
       "      <td>0.022548</td>\n",
       "    </tr>\n",
       "    <tr>\n",
       "      <th>8</th>\n",
       "      <td>med</td>\n",
       "      <td>0.315655</td>\n",
       "    </tr>\n",
       "    <tr>\n",
       "      <th>0</th>\n",
       "      <td>good</td>\n",
       "      <td>0.751527</td>\n",
       "    </tr>\n",
       "    <tr>\n",
       "      <th>1</th>\n",
       "      <td>good</td>\n",
       "      <td>0.401316</td>\n",
       "    </tr>\n",
       "    <tr>\n",
       "      <th>2</th>\n",
       "      <td>good</td>\n",
       "      <td>0.233910</td>\n",
       "    </tr>\n",
       "    <tr>\n",
       "      <th>3</th>\n",
       "      <td>good</td>\n",
       "      <td>0.916686</td>\n",
       "    </tr>\n",
       "    <tr>\n",
       "      <th>4</th>\n",
       "      <td>good</td>\n",
       "      <td>0.359894</td>\n",
       "    </tr>\n",
       "    <tr>\n",
       "      <th>5</th>\n",
       "      <td>good</td>\n",
       "      <td>0.967589</td>\n",
       "    </tr>\n",
       "    <tr>\n",
       "      <th>6</th>\n",
       "      <td>good</td>\n",
       "      <td>0.664567</td>\n",
       "    </tr>\n",
       "    <tr>\n",
       "      <th>7</th>\n",
       "      <td>good</td>\n",
       "      <td>0.571084</td>\n",
       "    </tr>\n",
       "    <tr>\n",
       "      <th>8</th>\n",
       "      <td>good</td>\n",
       "      <td>0.828172</td>\n",
       "    </tr>\n",
       "  </tbody>\n",
       "</table>\n",
       "</div>"
      ],
      "text/plain": [
       "  experience  interface_pos\n",
       "0        low       0.164162\n",
       "1        low       0.637237\n",
       "2        low       0.311625\n",
       "3        low       0.302318\n",
       "4        low       0.025857\n",
       "5        low       0.386026\n",
       "6        low       0.201515\n",
       "7        low       0.634820\n",
       "8        low       0.530034\n",
       "0        med       0.892695\n",
       "1        med       0.338755\n",
       "2        med       0.511733\n",
       "3        med       0.429948\n",
       "4        med       0.284945\n",
       "5        med       0.434785\n",
       "6        med       0.456085\n",
       "7        med       0.022548\n",
       "8        med       0.315655\n",
       "0       good       0.751527\n",
       "1       good       0.401316\n",
       "2       good       0.233910\n",
       "3       good       0.916686\n",
       "4       good       0.359894\n",
       "5       good       0.967589\n",
       "6       good       0.664567\n",
       "7       good       0.571084\n",
       "8       good       0.828172"
      ]
     },
     "execution_count": 9,
     "metadata": {},
     "output_type": "execute_result"
    }
   ],
   "source": [
    "df_experience_combine_interface_t_test = pd.concat([df_low_interface_t_test, df_med_interface_t_test, df_good_interface_t_test], axis=0)\n",
    "df_experience_combine_interface_t_test"
   ]
  },
  {
   "cell_type": "code",
   "execution_count": 58,
   "metadata": {},
   "outputs": [
    {
     "name": "stdout",
     "output_type": "stream",
     "text": [
      "T-statistic: -0.5239547316411325\n",
      "P-value: 0.6074924147228514\n",
      "Fail to reject the null hypothesis - there is no significant difference in interface experience between age groups.\n"
     ]
    }
   ],
   "source": [
    "from scipy import stats\n",
    "import numpy as np\n",
    "\n",
    "\n",
    "interface_pos_low = df_experience_combine_interface_t_test[df_experience_combine_interface_t_test['experience'] == 'low']['interface_pos']\n",
    "interface_pos_med = df_experience_combine_interface_t_test[df_experience_combine_interface_t_test['experience'] == 'med']['interface_pos']\n",
    "interface_pos_good = df_experience_combine_interface_t_test[df_experience_combine_interface_t_test['experience'] == 'good']['interface_pos']\n",
    "\n",
    "# Perform the independent t-test\n",
    "t_stat, p_value = stats.ttest_ind(interface_pos_low, interface_pos_med)\n",
    "\n",
    "print(f\"T-statistic: {t_stat}\")\n",
    "print(f\"P-value: {p_value}\")\n",
    "\n",
    "# Interpretation\n",
    "alpha = 0.05\n",
    "if p_value < alpha:\n",
    "    print(\"Reject the null hypothesis - there is a significant difference in interface experience between age groups.\")\n",
    "else:\n",
    "    print(\"Fail to reject the null hypothesis - there is no significant difference in interface experience between age groups.\")"
   ]
  },
  {
   "cell_type": "code",
   "execution_count": 10,
   "metadata": {},
   "outputs": [
    {
     "name": "stdout",
     "output_type": "stream",
     "text": [
      "low vs. med: T-statistic = -0.52, P-value = 0.6075\n",
      "low vs. good: T-statistic = -2.49, P-value = 0.0243\n",
      "med vs. good: T-statistic = -1.93, P-value = 0.0717\n"
     ]
    }
   ],
   "source": [
    "from scipy import stats\n",
    "from itertools import combinations\n",
    "hobbies = df_experience_combine_interface_t_test['experience'].unique()\n",
    "\n",
    "# Perform pairwise t-tests\n",
    "pairwise_results = []\n",
    "for (hobby1, hobby2) in combinations(hobbies, 2):\n",
    "    group1 = df_experience_combine_interface_t_test[df_experience_combine_interface_t_test['experience'] == hobby1]['interface_pos']\n",
    "    group2 = df_experience_combine_interface_t_test[df_experience_combine_interface_t_test['experience'] == hobby2]['interface_pos']\n",
    "    t_stat, p_value = stats.ttest_ind(group1, group2)\n",
    "    pairwise_results.append(((hobby1, hobby2), t_stat, p_value))\n",
    "\n",
    "# Print results\n",
    "for (hobby1, hobby2), t_stat, p_value in pairwise_results:\n",
    "    print(f\"{hobby1} vs. {hobby2}: T-statistic = {t_stat:.2f}, P-value = {p_value:.4f}\")\n"
   ]
  }
 ],
 "metadata": {
  "kernelspec": {
   "display_name": "Python 3",
   "language": "python",
   "name": "python3"
  },
  "language_info": {
   "codemirror_mode": {
    "name": "ipython",
    "version": 3
   },
   "file_extension": ".py",
   "mimetype": "text/x-python",
   "name": "python",
   "nbconvert_exporter": "python",
   "pygments_lexer": "ipython3",
   "version": "3.undefined.undefined"
  }
 },
 "nbformat": 4,
 "nbformat_minor": 2
}
