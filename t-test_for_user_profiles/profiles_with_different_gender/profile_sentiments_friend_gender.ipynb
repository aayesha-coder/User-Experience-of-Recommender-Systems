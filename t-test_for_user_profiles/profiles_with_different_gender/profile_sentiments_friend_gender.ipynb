{
 "cells": [
  {
   "cell_type": "code",
   "execution_count": 1,
   "metadata": {},
   "outputs": [
    {
     "name": "stderr",
     "output_type": "stream",
     "text": [
      "/Users/aayeshaaayesha/Library/Python/3.9/lib/python/site-packages/tqdm/auto.py:21: TqdmWarning: IProgress not found. Please update jupyter and ipywidgets. See https://ipywidgets.readthedocs.io/en/stable/user_install.html\n",
      "  from .autonotebook import tqdm as notebook_tqdm\n"
     ]
    }
   ],
   "source": [
    "from transformers import AutoModelForSequenceClassification\n",
    "from transformers import TFAutoModelForSequenceClassification\n",
    "from transformers import AutoTokenizer, AutoConfig\n",
    "import numpy as np\n",
    "from scipy.special import softmax\n",
    "# Preprocess text (username and link placeholders)\n",
    "def preprocess(text):\n",
    "    new_text = []\n",
    "    for t in text.split(\" \"):\n",
    "        t = '@user' if t.startswith('@') and len(t) > 1 else t\n",
    "        t = 'http' if t.startswith('http') else t\n",
    "        new_text.append(t)\n",
    "    return \" \".join(new_text)\n"
   ]
  },
  {
   "cell_type": "code",
   "execution_count": 2,
   "metadata": {},
   "outputs": [
    {
     "name": "stderr",
     "output_type": "stream",
     "text": [
      "Some weights of the model checkpoint at cardiffnlp/twitter-roberta-base-sentiment-latest were not used when initializing RobertaForSequenceClassification: ['roberta.pooler.dense.bias', 'roberta.pooler.dense.weight']\n",
      "- This IS expected if you are initializing RobertaForSequenceClassification from the checkpoint of a model trained on another task or with another architecture (e.g. initializing a BertForSequenceClassification model from a BertForPreTraining model).\n",
      "- This IS NOT expected if you are initializing RobertaForSequenceClassification from the checkpoint of a model that you expect to be exactly identical (initializing a BertForSequenceClassification model from a BertForSequenceClassification model).\n"
     ]
    }
   ],
   "source": [
    "MODEL = f\"cardiffnlp/twitter-roberta-base-sentiment-latest\"\n",
    "tokenizer = AutoTokenizer.from_pretrained(MODEL)\n",
    "config = AutoConfig.from_pretrained(MODEL)\n",
    "# PT\n",
    "model = AutoModelForSequenceClassification.from_pretrained(MODEL)\n",
    "#model.save_pretrained(MODEL)"
   ]
  },
  {
   "cell_type": "code",
   "execution_count": 1,
   "metadata": {},
   "outputs": [],
   "source": [
    "import pandas as pd\n",
    "df_profile1_sample = pd.read_excel('friend_profile1_gender.xlsx')\n",
    "df_profile2_sample = pd.read_excel('friend_profile2_gender.xlsx')\n",
    "\n",
    "\n"
   ]
  },
  {
   "cell_type": "code",
   "execution_count": 4,
   "metadata": {},
   "outputs": [
    {
     "name": "stdout",
     "output_type": "stream",
     "text": [
      "[0.1863101, 0.022276387, 0.18364666, 0.2088199]\n"
     ]
    }
   ],
   "source": [
    "from statistics import mean \n",
    "col_list = ['accomp1f']\n",
    "def sentiForCol(col_list):\n",
    "    pos_mean_ls = []\n",
    "    for k in range(df_profile1_sample.shape[0]):\n",
    "        pos_ls = []\n",
    "        for j in range(0, len(col_list)):\n",
    "          text = df_profile1_sample.iloc[k][col_list[j]]\n",
    "          text = preprocess(text)\n",
    "          encoded_input = tokenizer(text, return_tensors='pt')\n",
    "          output = model(**encoded_input)\n",
    "          scores = output[0][0].detach().numpy()\n",
    "          scores = softmax(scores)\n",
    "          ranking = np.argsort(scores)\n",
    "          ranking = ranking[::-1]\n",
    "          for i in range(scores.shape[0]):\n",
    "            l = config.id2label[ranking[i]]\n",
    "            s = scores[ranking[i]]\n",
    "            if l=='positive':\n",
    "                pos_ls.append(s)\n",
    "        pos_mean = mean(pos_ls)\n",
    "        pos_mean_ls.append(pos_mean)\n",
    "    return pos_mean_ls\n",
    "print(sentiForCol(col_list))\n",
    "profile1 = sentiForCol(col_list)"
   ]
  },
  {
   "cell_type": "code",
   "execution_count": 5,
   "metadata": {},
   "outputs": [
    {
     "name": "stdout",
     "output_type": "stream",
     "text": [
      "[0.080056295, 0.60055566, 0.9117711, 0.316021]\n"
     ]
    }
   ],
   "source": [
    "col_list = ['accomp1f']\n",
    "def sentiForCol1(col_list):\n",
    "    pos_mean_ls = []\n",
    "    for k in range(df_profile2_sample.shape[0]):\n",
    "        pos_ls = []\n",
    "        for j in range(0, len(col_list)):\n",
    "          text = df_profile2_sample.iloc[k][col_list[j]]\n",
    "          text = preprocess(text)\n",
    "          encoded_input = tokenizer(text, return_tensors='pt')\n",
    "          output = model(**encoded_input)\n",
    "          scores = output[0][0].detach().numpy()\n",
    "          scores = softmax(scores)\n",
    "          ranking = np.argsort(scores)\n",
    "          ranking = ranking[::-1]\n",
    "          for i in range(scores.shape[0]):\n",
    "            l = config.id2label[ranking[i]]\n",
    "            s = scores[ranking[i]]\n",
    "            if l=='positive':\n",
    "                pos_ls.append(s)\n",
    "        pos_mean = mean(pos_ls)\n",
    "        pos_mean_ls.append(pos_mean)\n",
    "    return pos_mean_ls\n",
    "print(sentiForCol1(col_list))\n",
    "profile2 = sentiForCol1(col_list)"
   ]
  },
  {
   "cell_type": "code",
   "execution_count": 6,
   "metadata": {},
   "outputs": [],
   "source": [
    "df_profile1_interface_t_test = pd.DataFrame({'profile': 'profile1', 'interface_pos': profile1 })\n",
    "df_profile2_interface_t_test = pd.DataFrame({'profile': 'profile2', 'interface_pos': profile2 })\n"
   ]
  },
  {
   "cell_type": "code",
   "execution_count": 7,
   "metadata": {},
   "outputs": [
    {
     "data": {
      "text/html": [
       "<div>\n",
       "<style scoped>\n",
       "    .dataframe tbody tr th:only-of-type {\n",
       "        vertical-align: middle;\n",
       "    }\n",
       "\n",
       "    .dataframe tbody tr th {\n",
       "        vertical-align: top;\n",
       "    }\n",
       "\n",
       "    .dataframe thead th {\n",
       "        text-align: right;\n",
       "    }\n",
       "</style>\n",
       "<table border=\"1\" class=\"dataframe\">\n",
       "  <thead>\n",
       "    <tr style=\"text-align: right;\">\n",
       "      <th></th>\n",
       "      <th>profile</th>\n",
       "      <th>interface_pos</th>\n",
       "    </tr>\n",
       "  </thead>\n",
       "  <tbody>\n",
       "    <tr>\n",
       "      <th>0</th>\n",
       "      <td>profile1</td>\n",
       "      <td>0.186310</td>\n",
       "    </tr>\n",
       "    <tr>\n",
       "      <th>1</th>\n",
       "      <td>profile1</td>\n",
       "      <td>0.022276</td>\n",
       "    </tr>\n",
       "    <tr>\n",
       "      <th>2</th>\n",
       "      <td>profile1</td>\n",
       "      <td>0.183647</td>\n",
       "    </tr>\n",
       "    <tr>\n",
       "      <th>3</th>\n",
       "      <td>profile1</td>\n",
       "      <td>0.208820</td>\n",
       "    </tr>\n",
       "    <tr>\n",
       "      <th>0</th>\n",
       "      <td>profile2</td>\n",
       "      <td>0.080056</td>\n",
       "    </tr>\n",
       "    <tr>\n",
       "      <th>1</th>\n",
       "      <td>profile2</td>\n",
       "      <td>0.600556</td>\n",
       "    </tr>\n",
       "    <tr>\n",
       "      <th>2</th>\n",
       "      <td>profile2</td>\n",
       "      <td>0.911771</td>\n",
       "    </tr>\n",
       "    <tr>\n",
       "      <th>3</th>\n",
       "      <td>profile2</td>\n",
       "      <td>0.316021</td>\n",
       "    </tr>\n",
       "  </tbody>\n",
       "</table>\n",
       "</div>"
      ],
      "text/plain": [
       "    profile  interface_pos\n",
       "0  profile1       0.186310\n",
       "1  profile1       0.022276\n",
       "2  profile1       0.183647\n",
       "3  profile1       0.208820\n",
       "0  profile2       0.080056\n",
       "1  profile2       0.600556\n",
       "2  profile2       0.911771\n",
       "3  profile2       0.316021"
      ]
     },
     "execution_count": 7,
     "metadata": {},
     "output_type": "execute_result"
    }
   ],
   "source": [
    "df_profiles_combine_interface_t_test = pd.concat([df_profile1_interface_t_test, df_profile2_interface_t_test], axis=0)\n",
    "df_profiles_combine_interface_t_test"
   ]
  },
  {
   "cell_type": "code",
   "execution_count": 8,
   "metadata": {},
   "outputs": [
    {
     "name": "stdout",
     "output_type": "stream",
     "text": [
      "profile1 vs. profile2: T-statistic = -1.77, P-value = 0.1274\n"
     ]
    }
   ],
   "source": [
    "from scipy import stats\n",
    "from itertools import combinations\n",
    "hobbies = df_profiles_combine_interface_t_test['profile'].unique()\n",
    "\n",
    "# Perform pairwise t-tests\n",
    "pairwise_results = []\n",
    "for (hobby1, hobby2) in combinations(hobbies, 2):\n",
    "    group1 = df_profiles_combine_interface_t_test[df_profiles_combine_interface_t_test['profile'] == hobby1]['interface_pos']\n",
    "    group2 = df_profiles_combine_interface_t_test[df_profiles_combine_interface_t_test['profile'] == hobby2]['interface_pos']\n",
    "    t_stat, p_value = stats.ttest_ind(group1, group2)\n",
    "    pairwise_results.append(((hobby1, hobby2), t_stat, p_value))\n",
    "\n",
    "# Print results\n",
    "for (hobby1, hobby2), t_stat, p_value in pairwise_results:\n",
    "    print(f\"{hobby1} vs. {hobby2}: T-statistic = {t_stat:.2f}, P-value = {p_value:.4f}\")\n"
   ]
  }
 ],
 "metadata": {
  "kernelspec": {
   "display_name": "Python 3",
   "language": "python",
   "name": "python3"
  },
  "language_info": {
   "codemirror_mode": {
    "name": "ipython",
    "version": 3
   },
   "file_extension": ".py",
   "mimetype": "text/x-python",
   "name": "python",
   "nbconvert_exporter": "python",
   "pygments_lexer": "ipython3",
   "version": "3.undefined.undefined"
  }
 },
 "nbformat": 4,
 "nbformat_minor": 2
}
